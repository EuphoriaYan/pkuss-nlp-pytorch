{
 "cells": [
  {
   "cell_type": "markdown",
   "metadata": {},
   "source": [
    "# Seq2seq进行机器翻译与存取模型"
   ]
  },
  {
   "cell_type": "markdown",
   "metadata": {},
   "source": [
    "当前最复杂的NLP应用之一就是机器翻译，我们今天来讲一个使用Seq2seq模型进行机器翻译的例子，顺便给大家介绍一下存取模型。"
   ]
  },
  {
   "cell_type": "code",
   "execution_count": 1,
   "metadata": {},
   "outputs": [],
   "source": [
    "import torch\n",
    "import numpy as np\n",
    "from torch import nn\n",
    "\n",
    "from models.Seq2seqTranslate import Seq2seq_translater\n",
    "from dataset_readers.trans import *\n",
    "from utils.tokenizer import Tokenizer"
   ]
  },
  {
   "cell_type": "markdown",
   "metadata": {},
   "source": [
    "我们本次就不用emb啦，因为我们今天的任务是英语翻译成法语，而英语的emb处理起来要花的时间太多了，就直接初始化吧。"
   ]
  },
  {
   "cell_type": "markdown",
   "metadata": {},
   "source": [
    "首先我们来建立一个Seq2seq的网络。一般的Seq2seq网络都主要分成两个部分：Encoder和Decoder。"
   ]
  },
  {
   "cell_type": "code",
   "execution_count": 3,
   "metadata": {},
   "outputs": [],
   "source": [
    "# 之前我们用的一些无参数的函数其实在这个大F里都有，我们可以不用预先初始化，直接使用\n",
    "import torch.nn.functional as F\n",
    "\n",
    "# Encoder部分，其实就是一个标准的RNN网络\n",
    "class EncoderRNN(nn.Module):\n",
    "    def __init__(self, input_size, hidden_size):\n",
    "        super(EncoderRNN, self).__init__()\n",
    "        self.hidden_size = hidden_size\n",
    "        # 词嵌入层，这里没有初始化，就让它随着训练自己计算吧\n",
    "        self.embedding = nn.Embedding(input_size, hidden_size)\n",
    "        # RNN层，使用了GRU单元，输入是(batch_size, seq_length, hidden_size),输出一样\n",
    "        self.gru = nn.GRU(hidden_size, hidden_size, batch_first=True)\n",
    "\n",
    "    def forward(self, x):\n",
    "        embedded = self.embedding(x)\n",
    "        output, hidden = self.gru(embedded)\n",
    "        # hidden用不到\n",
    "        return output\n",
    "\n",
    "# Decoder部分，带Attention机制\n",
    "class AttnDecoderRNN(nn.Module):\n",
    "    def __init__(self, hidden_size, output_size, dropout_p=0.1, max_length=128):\n",
    "        super(AttnDecoderRNN, self).__init__()\n",
    "        self.hidden_size = hidden_size\n",
    "        self.output_size = output_size\n",
    "        self.dropout_p = dropout_p\n",
    "        self.max_length = max_length\n",
    "        \n",
    "        # \n",
    "        self.embedding = nn.Embedding(self.output_size, self.hidden_size)\n",
    "        self.attn = nn.Linear(self.hidden_size, self.max_length)\n",
    "        self.attn_combine = nn.Linear(self.hidden_size * 2, self.hidden_size)\n",
    "        self.dropout = nn.Dropout(self.dropout_p)\n",
    "        self.gru = nn.GRU(self.hidden_size, self.hidden_size, batch_first=True)\n",
    "        self.out = nn.Linear(self.hidden_size, self.output_size)\n",
    "\n",
    "    def forward(self, x, encoder_outputs):\n",
    "        embedded = self.embedding(x)\n",
    "        embedded = self.dropout(embedded)\n",
    "\n",
    "        attn_weights = F.softmax(self.attn(embedded), dim=2)\n",
    "        attn_applied = torch.bmm(attn_weights,\n",
    "                                 encoder_outputs)\n",
    "\n",
    "        output = torch.cat((embedded, attn_applied), dim=2)\n",
    "        output = self.attn_combine(output)\n",
    "\n",
    "        output = F.relu(output)\n",
    "        output, hidden = self.gru(output)\n",
    "\n",
    "        output = self.out(output)\n",
    "        \n",
    "        return output, hidden, attn_weights\n",
    "\n",
    "\n",
    "class Seq2seq_translater(nn.Module):\n",
    "    def __init__(self, input_size, hidden_size, output_size, max_seq_length):\n",
    "        super(Seq2seq_translater, self).__init__()\n",
    "        self.encoder = EncoderRNN(input_size, hidden_size)\n",
    "        self.decoder = AttnDecoderRNN(hidden_size, output_size, max_length=max_seq_length)\n",
    "        self.loss_fct = nn.CrossEntropyLoss()\n",
    "        self.output_size = output_size\n",
    "\n",
    "    def forward(self, x, y=None):\n",
    "        m = self.encoder(x)\n",
    "        res, _, _ = self.decoder(x, m)\n",
    "\n",
    "        if y is not None:\n",
    "            return self.loss_fct(res.view(-1, self.output_size), y.view(-1))\n",
    "        else:\n",
    "            return F.softmax(res, dim=2)"
   ]
  },
  {
   "cell_type": "code",
   "execution_count": 4,
   "metadata": {},
   "outputs": [
    {
     "name": "stdout",
     "output_type": "stream",
     "text": [
      "LSTMTaggerNet(\n",
      "  (emb): Embedding(9110, 300)\n",
      "  (lstm): LSTM(300, 300, bidirectional=True)\n",
      "  (FC_out): Sequential(\n",
      "    (0): Linear(in_features=600, out_features=50, bias=True)\n",
      "    (1): ReLU(inplace=True)\n",
      "    (2): Dropout(p=0.1, inplace=False)\n",
      "    (3): Linear(in_features=50, out_features=2, bias=True)\n",
      "  )\n",
      "  (softmax): Softmax(dim=-1)\n",
      "  (loss_fct): CrossEntropyLoss()\n",
      ")\n",
      "1474952 parameters is trainable.\n"
     ]
    }
   ],
   "source": [
    "# 我们做的是左传的词性标注，序列最长设为20\n",
    "seq_length = 20\n",
    "# 我们使用BIO标签，O->B，因此还是只有两类\n",
    "label_len = 2\n",
    "model = LSTMTaggerNet(seq_length, label_len, bidirectional=True)\n",
    "# 使用print可以打印出网络的结构\n",
    "print(model)\n",
    "\n",
    "total_trainable_params = sum(p.numel() for p in model.parameters() if p.requires_grad)\n",
    "print(str(total_trainable_params), 'parameters is trainable.')\n",
    "\n",
    "if torch.cuda.is_available():\n",
    "    model.to(torch.device('cuda'))"
   ]
  },
  {
   "cell_type": "markdown",
   "metadata": {},
   "source": [
    "同样的，这里是已经封装好了的`dataset_readers`包，用于存放读取数据的类。之前我们都是只跑训练没有跑eval，现在开始我们的数据都会进行“train/dev”划分，根据测试集上的表现来确定表现，这也是一般的NN工程的方法。"
   ]
  },
  {
   "cell_type": "code",
   "execution_count": 5,
   "metadata": {},
   "outputs": [
    {
     "name": "stdout",
     "output_type": "stream",
     "text": [
      "春秋左传定公 ['B', 'I', 'B', 'I', 'B', 'I']\n",
      "元年 ['B', 'I']\n",
      "春 ['B']\n",
      "春秋左传隐公 ['B', 'I', 'B', 'I', 'B', 'I']\n",
      "惠公元妃孟子 ['B', 'I', 'B', 'I', 'B', 'I']\n",
      "孟子卒 ['B', 'I', 'B']\n"
     ]
    }
   ],
   "source": [
    "from dataset_readers.single_sent_clf import *\n",
    "from dataset_readers.cws import *\n",
    "\n",
    "# 这个类是用于读取左传数据的\n",
    "reader = Zuozhuan_Cws()\n",
    "# 获取训练集\n",
    "train_examples = reader.get_train_examples()\n",
    "# 获取开发集\n",
    "dev_examples = reader.get_dev_examples()\n",
    "for i in range(3):\n",
    "    print(train_examples[i].text, train_examples[i].label)\n",
    "for i in range(3):\n",
    "    print(dev_examples[i].text, dev_examples[i].label)"
   ]
  },
  {
   "cell_type": "markdown",
   "metadata": {},
   "source": [
    "还是一样生成dataloader，只不过这次有两个，一个是train，一个是dev。"
   ]
  },
  {
   "cell_type": "code",
   "execution_count": 6,
   "metadata": {},
   "outputs": [],
   "source": [
    "from torch.utils.data import TensorDataset, DataLoader\n",
    "\n",
    "def convert_example_to_feature(examples, tokenizer, seq_length):\n",
    "    features = []\n",
    "    for i in examples:\n",
    "        # 使用tokenizer将字符串转换为数字id\n",
    "        ids = tokenizer.tokens_to_ids(i.text)\n",
    "        label = i.label\n",
    "        # 我们规定了最大长度，超过了就切断\n",
    "        if len(ids) > seq_length:\n",
    "            ids = ids[0: seq_length]\n",
    "            label = label[0: seq_length]\n",
    "        # 如果这个字符串全都不能识别，那就放弃掉\n",
    "        if sum(ids) == 0:\n",
    "            continue\n",
    "        # 处理标签，我们设B为1，I为0\n",
    "        trans = {'B': 1, 'I': 0}\n",
    "        label_ids = [trans[l] for l in i.label]\n",
    "        \n",
    "        padding = [0] * (seq_length - len(ids))\n",
    "        \n",
    "        ids += padding\n",
    "        label_ids += padding\n",
    "                \n",
    "        assert len(ids) == seq_length\n",
    "        assert len(label_ids) == seq_length\n",
    "        features.append(data_feature(ids, label_ids))\n",
    "    return features\n",
    "\n",
    "def generate_dataloader(examples, tokenizer, seq_length):\n",
    "    features = convert_example_to_feature(examples, tokenizer, seq_length)\n",
    "    ids = torch.tensor([f.ids for f in features], dtype=torch.long)\n",
    "    label = torch.tensor([f.label_ids for f in features], dtype=torch.long)\n",
    "\n",
    "    dataset = TensorDataset(ids, label)\n",
    "    dataloader = DataLoader(dataset, batch_size=16, shuffle=True)\n",
    "    return dataloader\n",
    "\n",
    "train_dataloader = generate_dataloader(train_examples, tokenizer, seq_length)\n",
    "dev_dataloader = generate_dataloader(dev_examples, tokenizer, seq_length)"
   ]
  },
  {
   "cell_type": "markdown",
   "metadata": {},
   "source": [
    "依然使用Adam优化器。"
   ]
  },
  {
   "cell_type": "code",
   "execution_count": 7,
   "metadata": {},
   "outputs": [
    {
     "name": "stdout",
     "output_type": "stream",
     "text": [
      "Adam (\n",
      "Parameter Group 0\n",
      "    amsgrad: False\n",
      "    betas: (0.9, 0.999)\n",
      "    eps: 1e-08\n",
      "    lr: 0.0001\n",
      "    weight_decay: 0\n",
      ")\n"
     ]
    }
   ],
   "source": [
    "from torch.optim import Adam\n",
    "\n",
    "optimizer = Adam(model.parameters(), lr=0.0001)\n",
    "print(optimizer)"
   ]
  },
  {
   "cell_type": "markdown",
   "metadata": {},
   "source": [
    "开始训练，我们这里使用sklearn提供的评估方法来进行评估。"
   ]
  },
  {
   "cell_type": "code",
   "execution_count": 8,
   "metadata": {},
   "outputs": [
    {
     "name": "stdout",
     "output_type": "stream",
     "text": [
      "epoch: 1, loss: 0.176529\n",
      "eval_f1: 91.93%\n",
      "epoch: 2, loss: 0.068826\n",
      "eval_f1: 93.50%\n",
      "epoch: 3, loss: 0.055466\n",
      "eval_f1: 93.87%\n",
      "epoch: 4, loss: 0.047732\n",
      "eval_f1: 93.85%\n",
      "epoch: 5, loss: 0.043406\n",
      "eval_f1: 94.16%\n",
      "epoch: 6, loss: 0.040075\n",
      "eval_f1: 93.70%\n",
      "epoch: 7, loss: 0.037694\n",
      "eval_f1: 94.35%\n",
      "epoch: 8, loss: 0.035436\n",
      "eval_f1: 93.63%\n",
      "epoch: 9, loss: 0.033188\n",
      "eval_f1: 94.09%\n",
      "epoch: 10, loss: 0.031708\n",
      "eval_f1: 94.14%\n"
     ]
    }
   ],
   "source": [
    "# 可以直接算p，r，f1\n",
    "from sklearn.metrics import precision_score, recall_score, f1_score\n",
    "\n",
    "epoch = 10\n",
    "for i in range(epoch):\n",
    "    model.train()\n",
    "    total_loss = []\n",
    "    for ids, label_ids in train_dataloader:\n",
    "        if torch.cuda.is_available():\n",
    "            ids = ids.to(torch.device('cuda'))\n",
    "            label_ids = label_ids.to(torch.device('cuda'))\n",
    "        optimizer.zero_grad()\n",
    "        loss = model(ids, label_ids)\n",
    "        total_loss.append(loss.item())\n",
    "        loss.backward()\n",
    "        optimizer.step()\n",
    "    print(\"epoch: %d, loss: %.6f\" % (i + 1, sum(total_loss) / len(total_loss)))\n",
    "    \n",
    "    model.eval()\n",
    "    total_gold = []\n",
    "    total_pred = []\n",
    "    for ids, label_ids in dev_dataloader:\n",
    "        if torch.cuda.is_available():\n",
    "            ids = ids.to(torch.device('cuda'))\n",
    "        # 进行预测（batch_size, seq_length, label_len）\n",
    "        logits = model(ids)\n",
    "        # 转成numpy\n",
    "        logits = logits.detach().cpu().numpy()\n",
    "        # 从预测的概率中找到最大的，输出下标\n",
    "        logits = np.argmax(logits, axis=-1)\n",
    "        # 转成list\n",
    "        logits = logits.tolist()\n",
    "        # 插入到“总预测”的最后\n",
    "        total_pred.extend(logits)\n",
    "        # 将真实标签也插入到“总真实”的最后\n",
    "        label_ids = label_ids.view(-1).numpy().tolist()\n",
    "        total_gold.extend(label_ids)\n",
    "    # eval_p = precision_score(total_gold, total_pred)\n",
    "    # eval_r = recall_score(total_gold, total_pred)\n",
    "    eval_f1 = f1_score(total_gold, total_pred)\n",
    "    print(\"eval_f1: %.2f%%\" % (eval_f1 * 100))"
   ]
  },
  {
   "cell_type": "code",
   "execution_count": null,
   "metadata": {},
   "outputs": [],
   "source": []
  }
 ],
 "metadata": {
  "kernelspec": {
   "display_name": "Python 3",
   "language": "python",
   "name": "python3"
  },
  "language_info": {
   "codemirror_mode": {
    "name": "ipython",
    "version": 3
   },
   "file_extension": ".py",
   "mimetype": "text/x-python",
   "name": "python",
   "nbconvert_exporter": "python",
   "pygments_lexer": "ipython3",
   "version": "3.7.7"
  },
  "pycharm": {
   "stem_cell": {
    "cell_type": "raw",
    "metadata": {
     "collapsed": false
    },
    "source": []
   }
  },
  "toc": {
   "base_numbering": 1,
   "nav_menu": {},
   "number_sections": true,
   "sideBar": true,
   "skip_h1_title": false,
   "title_cell": "Table of Contents",
   "title_sidebar": "Contents",
   "toc_cell": false,
   "toc_position": {},
   "toc_section_display": true,
   "toc_window_display": false
  }
 },
 "nbformat": 4,
 "nbformat_minor": 4
}
