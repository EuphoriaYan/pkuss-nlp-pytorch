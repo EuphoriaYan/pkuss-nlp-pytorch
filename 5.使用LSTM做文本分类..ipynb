{
 "cells": [
  {
   "cell_type": "markdown",
   "metadata": {},
   "source": [
    "# 使用Pytorch做文本分类"
   ]
  },
  {
   "cell_type": "markdown",
   "metadata": {},
   "source": [
    "CNN虽然解决了全连接网络参数过多的问题，但是CNN不能学习到“序列”上的知识，距离相对远一点的知识就捕捉不到，并且整体的网络效果容易被某些局部信息影响。所以在NLP任务上使用最多的其实是RNN这类能够学习到序列信息的网络。"
   ]
  },
  {
   "cell_type": "markdown",
   "metadata": {},
   "source": [
    "现在开始我们将逐渐使用工程的思路来做演示，把之前几节课用到的许多工具都做了封装，需要时直接调用，或者在原始的基础上进行修改即可。这里的`utils.tokenizer`和`utils.get_emb`就是封装了之前的Tokenizer和获取词向量的一些类、函数。"
   ]
  },
  {
   "cell_type": "code",
   "execution_count": 1,
   "metadata": {},
   "outputs": [],
   "source": [
    "import torch\n",
    "import numpy as np\n",
    "from utils.tokenizer import Tokenizer\n",
    "from utils.get_emb import *"
   ]
  },
  {
   "cell_type": "markdown",
   "metadata": {},
   "source": [
    "现在在notebook里调用就很简洁了，总之我们力求主文件能够比较简单，这样出BUG的时候排查起来也方便。"
   ]
  },
  {
   "cell_type": "code",
   "execution_count": 2,
   "metadata": {},
   "outputs": [
    {
     "name": "stdout",
     "output_type": "stream",
     "text": [
      "dict_length:  9109\n",
      "emb_size:  300\n",
      "UNK 0\n",
      "， 1\n",
      "的 2\n",
      "。 3\n",
      "、 4\n",
      "和 5\n",
      "在 6\n",
      "年 7\n",
      "“ 8\n",
      "了 9\n"
     ]
    }
   ],
   "source": [
    "emb, dict_length, emb_size = get_emb()\n",
    "tokenizer = Tokenizer(emb.keys())\n",
    "emb_matrix = get_emb_matrix(emb, tokenizer, dict_length, emb_size)"
   ]
  },
  {
   "cell_type": "markdown",
   "metadata": {},
   "source": [
    "然后我们来建立一个LSTM网络，这里暂时先不涉及各种时序上的机制。我们就用最简单的方法先来做文本分类。"
   ]
  },
  {
   "cell_type": "code",
   "execution_count": 10,
   "metadata": {},
   "outputs": [],
   "source": [
    "from torch import nn\n",
    "\n",
    "class LSTMClassifierNet(nn.Module):\n",
    "    def __init__(self, seq_length, label_len, hidden_dims=None, bidirectional=False, num_layers=1):\n",
    "        super(LSTMClassifierNet, self).__init__()\n",
    "        self.seq_length = seq_length\n",
    "        self.label_len = label_len\n",
    "        # 控制是否使用双向LSTM\n",
    "        self.bidirectional = bidirectional\n",
    "        if num_layers == 1:\n",
    "            self.lstm_dropout = 0.0\n",
    "        else:\n",
    "            self.lstm_dropout = 0.2\n",
    "        self.fc_dropout = 0.1\n",
    "        \n",
    "        self.emb = nn.Embedding.from_pretrained(torch.tensor(emb_matrix))\n",
    "        self.emb_size = self.emb.embedding_dim\n",
    "        if hidden_dims is not None:\n",
    "            self.hidden_dims = hidden_dims\n",
    "        else:\n",
    "            self.hidden_dims = self.emb_size\n",
    "        \n",
    "        # 循环神经网络，输入为(seq_len, batch, input_size)，(h_0, c_0), 如果没有给出h_0和c_0则默认为全零\n",
    "        # 输出为(seq_len, batch, num_directions * hidden_size), (h_final, c_final)\n",
    "        # 关于hidden_state和cell_state，可以理解为“短期记忆”和“长期记忆”\n",
    "        self.lstm = nn.LSTM(self.emb_size, self.hidden_dims,\n",
    "                            num_layers=1, dropout=self.lstm_dropout,\n",
    "                            bidirectional=self.bidirectional)\n",
    "        \n",
    "        # 输出层，输入为(batch_size, hidden_dims)，输出为(batch_size, label_len)\n",
    "        self.FC_out = nn.Sequential(\n",
    "            nn.Linear(self.hidden_dims, self.hidden_dims),\n",
    "            nn.ReLU(inplace=True),\n",
    "            nn.Dropout(self.fc_dropout),\n",
    "            nn.Linear(self.hidden_dims, self.label_len)\n",
    "        )\n",
    "        \n",
    "        # softmax分类层\n",
    "        self.softmax = nn.Softmax(dim=-1)\n",
    "        # 交叉熵损失函数\n",
    "        self.loss_fct = nn.CrossEntropyLoss()\n",
    "        \n",
    "    def forward(self, x, y=None):\n",
    "        # 通过词嵌入得到词的分布式表示，输出是(batch_size, seq_len, input_size)\n",
    "        x = self.emb(x)\n",
    "        # 但是LSTM要的输入是(seq_len, batch_size, input_size)，做一下维度变换\n",
    "        # 你也可以在建立LSTM网络的时候设置\"batch_first = True\"，使得LSTM要的输入就是(batch_size, seq_len, input_size)\n",
    "        x = x.permute(1, 0, 2)\n",
    "        # 使用LSTM，输出为(seq_len, batch_size, num_directions * hidden_size)\n",
    "        # LSTM输出的其实是最后一层的每个时刻的“短期记忆”\n",
    "        x, (final_h, final_c) = self.lstm(x)\n",
    "        # 我们就用最终的“长期记忆”来做分类，也就是final_c，它的维度是: (num_layers * num_directions, batch_size, hidden_size)\n",
    "        # 我们把batch_size放到最前面，所以现在是(batch_size, num_layers * num_directions, hidden_size)\n",
    "        final_c = final_c.permute(1, 0, 2)\n",
    "        \n",
    "        # 把每一层和每个方向的取个平均值，变成(batch_size, hidden_size)，现在就可以去做FC操作了\n",
    "        final_c = final_c.sum(dim=1)\n",
    "        \n",
    "        logits = self.FC_out(final_c)\n",
    "        if y is None:\n",
    "            return logits\n",
    "        else:\n",
    "            return self.loss_fct(logits, y)"
   ]
  },
  {
   "cell_type": "code",
   "execution_count": 11,
   "metadata": {},
   "outputs": [
    {
     "name": "stdout",
     "output_type": "stream",
     "text": [
      "LSTMClassifierNet(\n",
      "  (emb): Embedding(9110, 300)\n",
      "  (lstm): LSTM(300, 300)\n",
      "  (FC_out): Sequential(\n",
      "    (0): Linear(in_features=300, out_features=300, bias=True)\n",
      "    (1): ReLU(inplace=True)\n",
      "    (2): Dropout(p=0.1, inplace=False)\n",
      "    (3): Linear(in_features=300, out_features=2, bias=True)\n",
      "  )\n",
      "  (softmax): Softmax(dim=-1)\n",
      "  (loss_fct): CrossEntropyLoss()\n",
      ")\n",
      "813302 parameters is trainable.\n"
     ]
    }
   ],
   "source": [
    "# 我们做的是酒店评价的情感分析，最长为30\n",
    "seq_length = 30\n",
    "# 情感只有正负两类\n",
    "label_len = 2\n",
    "model = LSTMClassifierNet(seq_length, label_len)\n",
    "# 使用print可以打印出网络的结构\n",
    "print(model)\n",
    "\n",
    "total_trainable_params = sum(p.numel() for p in model.parameters() if p.requires_grad)\n",
    "print(str(total_trainable_params), 'parameters is trainable.')\n",
    "\n",
    "if torch.cuda.is_available():\n",
    "    model.to(torch.device('cuda'))"
   ]
  },
  {
   "cell_type": "code",
   "execution_count": 12,
   "metadata": {},
   "outputs": [],
   "source": [
    "from dataset_readers.single_sent_clf import *\n",
    "\n",
    "reader = ChnSentiCorp_Clf()\n",
    "train_examples = reader.get_train_examples()\n",
    "dev_examples = reader.get_dev_examples()"
   ]
  },
  {
   "cell_type": "code",
   "execution_count": 13,
   "metadata": {},
   "outputs": [],
   "source": [
    "from torch.utils.data import TensorDataset, DataLoader\n",
    "\n",
    "def generate_dataloader(examples, tokenizer, seq_length):\n",
    "    features = convert_example_to_feature(examples, tokenizer, seq_length)\n",
    "    ids = torch.tensor([f.ids for f in features], dtype=torch.long)\n",
    "    label = torch.tensor([f.label_ids for f in features], dtype=torch.long)\n",
    "\n",
    "    dataset = TensorDataset(ids, label)\n",
    "    dataloader = DataLoader(dataset, batch_size=16, shuffle=True)\n",
    "    return dataloader"
   ]
  },
  {
   "cell_type": "code",
   "execution_count": 14,
   "metadata": {},
   "outputs": [],
   "source": [
    "train_dataloader = generate_dataloader(train_examples, tokenizer, seq_length)\n",
    "dev_dataloader = generate_dataloader(dev_examples, tokenizer, seq_length)"
   ]
  },
  {
   "cell_type": "code",
   "execution_count": 15,
   "metadata": {},
   "outputs": [
    {
     "name": "stdout",
     "output_type": "stream",
     "text": [
      "Adam (\n",
      "Parameter Group 0\n",
      "    amsgrad: False\n",
      "    betas: (0.9, 0.999)\n",
      "    eps: 1e-08\n",
      "    lr: 0.001\n",
      "    weight_decay: 0\n",
      ")\n"
     ]
    }
   ],
   "source": [
    "from torch.optim import Adam\n",
    "\n",
    "optimizer = Adam(model.parameters(), lr=0.001)\n",
    "print(optimizer)"
   ]
  },
  {
   "cell_type": "code",
   "execution_count": 16,
   "metadata": {},
   "outputs": [
    {
     "name": "stdout",
     "output_type": "stream",
     "text": [
      "epoch: 1, loss: 0.675642\n",
      "eval_f1: 50.67%\n",
      "epoch: 2, loss: 0.624533\n",
      "eval_f1: 67.99%\n",
      "epoch: 3, loss: 0.526861\n",
      "eval_f1: 75.23%\n",
      "epoch: 4, loss: 0.453669\n",
      "eval_f1: 70.38%\n",
      "epoch: 5, loss: 0.369783\n",
      "eval_f1: 74.86%\n",
      "epoch: 6, loss: 0.276966\n",
      "eval_f1: 76.32%\n",
      "epoch: 7, loss: 0.204645\n",
      "eval_f1: 72.36%\n",
      "epoch: 8, loss: 0.161313\n",
      "eval_f1: 75.21%\n",
      "epoch: 9, loss: 0.143107\n",
      "eval_f1: 78.28%\n",
      "epoch: 10, loss: 0.099640\n",
      "eval_f1: 79.79%\n"
     ]
    }
   ],
   "source": [
    "from sklearn.metrics import precision_score, recall_score, f1_score\n",
    "\n",
    "epoch = 10\n",
    "for i in range(epoch):\n",
    "    model.train()\n",
    "    total_loss = []\n",
    "    for ids, label_ids in train_dataloader:\n",
    "        if torch.cuda.is_available():\n",
    "            ids = ids.to(torch.device('cuda'))\n",
    "            label_ids = label_ids.to(torch.device('cuda'))\n",
    "        optimizer.zero_grad()\n",
    "        loss = model(ids, label_ids)\n",
    "        total_loss.append(loss.item())\n",
    "        loss.backward()\n",
    "        optimizer.step()\n",
    "    print(\"epoch: %d, loss: %.6f\" % (i + 1, sum(total_loss) / len(total_loss)))\n",
    "    \n",
    "    model.eval()\n",
    "    total_gold = []\n",
    "    total_pred = []\n",
    "    for ids, label_ids in dev_dataloader:\n",
    "        if torch.cuda.is_available():\n",
    "            ids = ids.to(torch.device('cuda'))\n",
    "        logits = model(ids)\n",
    "        logits = logits.detach().cpu().numpy()\n",
    "        logits = np.argmax(logits, axis=-1)\n",
    "        logits = logits.tolist()\n",
    "        total_pred.extend(logits)\n",
    "        label_ids = label_ids.numpy().tolist()\n",
    "        total_gold.extend(label_ids)\n",
    "    # eval_p = precision_score(total_gold, total_pred)\n",
    "    # eval_r = recall_score(total_gold, total_pred)\n",
    "    eval_f1 = f1_score(total_gold, total_pred)\n",
    "    print(\"eval_f1: %.2f%%\" % (eval_f1 * 100))"
   ]
  },
  {
   "cell_type": "code",
   "execution_count": null,
   "metadata": {},
   "outputs": [],
   "source": []
  }
 ],
 "metadata": {
  "kernelspec": {
   "display_name": "Python 3",
   "language": "python",
   "name": "python3"
  },
  "language_info": {
   "codemirror_mode": {
    "name": "ipython",
    "version": 3
   },
   "file_extension": ".py",
   "mimetype": "text/x-python",
   "name": "python",
   "nbconvert_exporter": "python",
   "pygments_lexer": "ipython3",
   "version": "3.7.4"
  },
  "toc": {
   "base_numbering": 1,
   "nav_menu": {},
   "number_sections": true,
   "sideBar": true,
   "skip_h1_title": false,
   "title_cell": "Table of Contents",
   "title_sidebar": "Contents",
   "toc_cell": false,
   "toc_position": {},
   "toc_section_display": true,
   "toc_window_display": false
  },
  "pycharm": {
   "stem_cell": {
    "cell_type": "raw",
    "source": [],
    "metadata": {
     "collapsed": false
    }
   }
  }
 },
 "nbformat": 4,
 "nbformat_minor": 4
}