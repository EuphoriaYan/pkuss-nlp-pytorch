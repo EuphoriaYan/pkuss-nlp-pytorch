{
 "cells": [
  {
   "cell_type": "markdown",
   "metadata": {},
   "source": [
    "# 使用LSTM做词性标注"
   ]
  },
  {
   "cell_type": "markdown",
   "metadata": {},
   "source": [
    "我们之前先讲了使用LSTM做文本分类的任务，如果不使用Attention的话，我们将只会用到最终的cell状态。但是大家有没有发现，RNN实际上会对每个时刻都有一个输出，所以用RNN来做文本分类确实是有点大材小用了。我们接下来介绍一类更广泛的任务，称为“序列标注”，这类任务的目的是对于每个字，给出一个标注。以下这些任务都可以归纳成“序列标注”任务。\n",
    "1. 中文分词/分句\n",
    "2. 命名实体识别\n",
    "3. 组块分析\n",
    "4. 句法分析\n",
    "\n",
    "我们今天来介绍一个使用《左传》语料进行分词的任务。"
   ]
  },
  {
   "cell_type": "code",
   "execution_count": 1,
   "metadata": {},
   "outputs": [],
   "source": [
    "import torch\n",
    "import numpy as np\n",
    "from utils.tokenizer import Tokenizer\n",
    "from utils.get_emb import *"
   ]
  },
  {
   "cell_type": "markdown",
   "metadata": {},
   "source": [
    "现在在notebook里调用就很简洁了，总之我们力求主文件能够比较简单，这样出BUG的时候排查起来也方便。"
   ]
  },
  {
   "cell_type": "code",
   "execution_count": 2,
   "metadata": {},
   "outputs": [
    {
     "name": "stdout",
     "output_type": "stream",
     "text": [
      "dict_length:  9109\n",
      "emb_size:  300\n",
      "UNK 0\n",
      "， 1\n",
      "的 2\n",
      "。 3\n",
      "、 4\n",
      "和 5\n",
      "在 6\n",
      "年 7\n",
      "“ 8\n",
      "了 9\n"
     ]
    }
   ],
   "source": [
    "emb, dict_length, emb_size = get_emb()\n",
    "tokenizer = Tokenizer(emb.keys())\n",
    "emb_matrix = get_emb_matrix(emb, tokenizer, dict_length, emb_size)"
   ]
  },
  {
   "cell_type": "markdown",
   "metadata": {},
   "source": [
    "然后我们来建立一个LSTM的标注网络。"
   ]
  },
  {
   "cell_type": "code",
   "execution_count": 3,
   "metadata": {},
   "outputs": [],
   "source": [
    "from torch import nn\n",
    "\n",
    "class LSTMTaggerNet(nn.Module):\n",
    "    def __init__(self, seq_length, label_len, hidden_dims=None, bidirectional=False, num_layers=1):\n",
    "        super(LSTMTaggerNet, self).__init__()\n",
    "        self.seq_length = seq_length\n",
    "        self.label_len = label_len\n",
    "        # 控制是否使用双向LSTM\n",
    "        self.bidirectional = bidirectional\n",
    "        if num_layers == 1:\n",
    "            self.lstm_dropout = 0.0\n",
    "        else:\n",
    "            self.lstm_dropout = 0.1\n",
    "        self.fc_dropout = 0.1\n",
    "        \n",
    "        self.emb = nn.Embedding.from_pretrained(torch.tensor(emb_matrix))\n",
    "        self.emb_size = self.emb.embedding_dim\n",
    "        if hidden_dims is not None:\n",
    "            self.hidden_dims = hidden_dims\n",
    "        else:\n",
    "            self.hidden_dims = self.emb_size\n",
    "        \n",
    "        # 循环神经网络，输入为(seq_len, batch, input_size)，(h_0, c_0), 如果没有给出h_0和c_0则默认为全零\n",
    "        # 输出为(seq_len, batch, num_directions * hidden_size), (h_final, c_final)\n",
    "        # 关于hidden_state和cell_state，可以理解为“短期记忆”和“长期记忆”\n",
    "        self.lstm = nn.LSTM(self.emb_size, self.hidden_dims,\n",
    "                            num_layers=num_layers, dropout=self.lstm_dropout,\n",
    "                            bidirectional=self.bidirectional,\n",
    "                           # batch_first=True\n",
    "                           )\n",
    "        \n",
    "        # 输出层，输入为(batch_size, seq_len, hidden_dims)，输出为(batch_size, seq_len, label_len)\n",
    "        if self.bidirectional:\n",
    "            self.FC_out = nn.Sequential(\n",
    "                nn.Linear(self.hidden_dims * 2, 50),\n",
    "                nn.ReLU(inplace=True),\n",
    "                nn.Dropout(self.fc_dropout),\n",
    "                nn.Linear(50, self.label_len)\n",
    "            )\n",
    "        else:\n",
    "            self.FC_out = nn.Sequential(\n",
    "                nn.Linear(self.hidden_dims, 50),\n",
    "                nn.ReLU(inplace=True),\n",
    "                nn.Dropout(self.fc_dropout),\n",
    "                nn.Linear(50, self.label_len)\n",
    "            )\n",
    "        \n",
    "        # softmax分类层\n",
    "        self.softmax = nn.Softmax(dim=-1)\n",
    "        # 交叉熵损失函数\n",
    "        self.loss_fct = nn.CrossEntropyLoss()\n",
    "        \n",
    "    def forward(self, x, y=None):\n",
    "        # 通过词嵌入得到词的分布式表示，输出是(batch_size, seq_len, emb_size)\n",
    "        x = self.emb(x)\n",
    "        # 但是LSTM要的输入是(seq_len, batch_size, input_size)，做一下维度变换\n",
    "        # 你也可以在建立LSTM网络的时候设置\"batch_first = True\"，使得LSTM要的输入就是(batch_size, seq_len, input_size)\n",
    "        x = x.permute(1, 0, 2)\n",
    "        # 使用LSTM，输出为(seq_len, batch_size, num_directions * hidden_size)\n",
    "        # LSTM输出的其实是最后一层的每个时刻的“短期记忆”\n",
    "        x, (final_h, final_c) = self.lstm(x)\n",
    "        # 我们把batch_size放到最前面，所以现在是(batch_size, seq_len, num_directions * hidden_size)\n",
    "        x = x.permute(1, 0, 2)\n",
    "        \n",
    "        logits = self.FC_out(x)\n",
    "        logits = logits.view(-1, self.label_len)\n",
    "        if y is None:\n",
    "            return logits\n",
    "        else:\n",
    "            y = y.view(-1)\n",
    "            return self.loss_fct(logits, y)"
   ]
  },
  {
   "cell_type": "code",
   "execution_count": 4,
   "metadata": {},
   "outputs": [
    {
     "name": "stdout",
     "output_type": "stream",
     "text": [
      "LSTMTaggerNet(\n",
      "  (emb): Embedding(9110, 300)\n",
      "  (lstm): LSTM(300, 300, bidirectional=True)\n",
      "  (FC_out): Sequential(\n",
      "    (0): Linear(in_features=600, out_features=50, bias=True)\n",
      "    (1): ReLU(inplace=True)\n",
      "    (2): Dropout(p=0.1, inplace=False)\n",
      "    (3): Linear(in_features=50, out_features=2, bias=True)\n",
      "  )\n",
      "  (softmax): Softmax(dim=-1)\n",
      "  (loss_fct): CrossEntropyLoss()\n",
      ")\n",
      "1474952 parameters is trainable.\n"
     ]
    }
   ],
   "source": [
    "# 我们做的是左传的词性标注，序列最长设为20\n",
    "seq_length = 20\n",
    "# 我们使用BIO标签，O->B，因此还是只有两类\n",
    "label_len = 2\n",
    "model = LSTMTaggerNet(seq_length, label_len, bidirectional=True)\n",
    "# 使用print可以打印出网络的结构\n",
    "print(model)\n",
    "\n",
    "total_trainable_params = sum(p.numel() for p in model.parameters() if p.requires_grad)\n",
    "print(str(total_trainable_params), 'parameters is trainable.')\n",
    "\n",
    "if torch.cuda.is_available():\n",
    "    model.to(torch.device('cuda'))"
   ]
  },
  {
   "cell_type": "markdown",
   "metadata": {},
   "source": [
    "同样的，这里是已经封装好了的`dataset_readers`包，用于存放读取数据的类。之前我们都是只跑训练没有跑eval，现在开始我们的数据都会进行“train/dev”划分，根据测试集上的表现来确定表现，这也是一般的NN工程的方法。"
   ]
  },
  {
   "cell_type": "code",
   "execution_count": 5,
   "metadata": {},
   "outputs": [
    {
     "name": "stdout",
     "output_type": "stream",
     "text": [
      "春秋左传定公 ['B', 'I', 'B', 'I', 'B', 'I']\n",
      "元年 ['B', 'I']\n",
      "春 ['B']\n",
      "春秋左传隐公 ['B', 'I', 'B', 'I', 'B', 'I']\n",
      "惠公元妃孟子 ['B', 'I', 'B', 'I', 'B', 'I']\n",
      "孟子卒 ['B', 'I', 'B']\n"
     ]
    }
   ],
   "source": [
    "from dataset_readers.single_sent_clf import *\n",
    "from dataset_readers.cws import *\n",
    "\n",
    "# 这个类是用于读取左传数据的\n",
    "reader = Zuozhuan_Cws()\n",
    "# 获取训练集\n",
    "train_examples = reader.get_train_examples()\n",
    "# 获取开发集\n",
    "dev_examples = reader.get_dev_examples()\n",
    "for i in range(3):\n",
    "    print(train_examples[i].text, train_examples[i].label)\n",
    "for i in range(3):\n",
    "    print(dev_examples[i].text, dev_examples[i].label)"
   ]
  },
  {
   "cell_type": "markdown",
   "metadata": {},
   "source": [
    "还是一样生成dataloader，只不过这次有两个，一个是train，一个是dev。"
   ]
  },
  {
   "cell_type": "code",
   "execution_count": 6,
   "metadata": {},
   "outputs": [],
   "source": [
    "from torch.utils.data import TensorDataset, DataLoader\n",
    "\n",
    "def convert_example_to_feature(examples, tokenizer, seq_length):\n",
    "    features = []\n",
    "    for i in examples:\n",
    "        # 使用tokenizer将字符串转换为数字id\n",
    "        ids = tokenizer.tokens_to_ids(i.text)\n",
    "        label = i.label\n",
    "        # 我们规定了最大长度，超过了就切断\n",
    "        if len(ids) > seq_length:\n",
    "            ids = ids[0: seq_length]\n",
    "            label = label[0: seq_length]\n",
    "        # 如果这个字符串全都不能识别，那就放弃掉\n",
    "        if sum(ids) == 0:\n",
    "            continue\n",
    "        # 处理标签，我们设B为1，I为0\n",
    "        trans = {'B': 1, 'I': 0}\n",
    "        label_ids = [trans[l] for l in i.label]\n",
    "        \n",
    "        padding = [0] * (seq_length - len(ids))\n",
    "        \n",
    "        ids += padding\n",
    "        label_ids += padding\n",
    "                \n",
    "        assert len(ids) == seq_length\n",
    "        assert len(label_ids) == seq_length\n",
    "        features.append(data_feature(ids, label_ids))\n",
    "    return features\n",
    "\n",
    "def generate_dataloader(examples, tokenizer, seq_length):\n",
    "    features = convert_example_to_feature(examples, tokenizer, seq_length)\n",
    "    ids = torch.tensor([f.ids for f in features], dtype=torch.long)\n",
    "    label = torch.tensor([f.label_ids for f in features], dtype=torch.long)\n",
    "\n",
    "    dataset = TensorDataset(ids, label)\n",
    "    dataloader = DataLoader(dataset, batch_size=16, shuffle=True)\n",
    "    return dataloader\n",
    "\n",
    "train_dataloader = generate_dataloader(train_examples, tokenizer, seq_length)\n",
    "dev_dataloader = generate_dataloader(dev_examples, tokenizer, seq_length)"
   ]
  },
  {
   "cell_type": "markdown",
   "metadata": {},
   "source": [
    "依然使用Adam优化器。"
   ]
  },
  {
   "cell_type": "code",
   "execution_count": 7,
   "metadata": {},
   "outputs": [
    {
     "name": "stdout",
     "output_type": "stream",
     "text": [
      "Adam (\n",
      "Parameter Group 0\n",
      "    amsgrad: False\n",
      "    betas: (0.9, 0.999)\n",
      "    eps: 1e-08\n",
      "    lr: 0.0001\n",
      "    weight_decay: 0\n",
      ")\n"
     ]
    }
   ],
   "source": [
    "from torch.optim import Adam\n",
    "\n",
    "optimizer = Adam(model.parameters(), lr=0.0001)\n",
    "print(optimizer)"
   ]
  },
  {
   "cell_type": "markdown",
   "metadata": {},
   "source": [
    "开始训练，我们这里使用sklearn提供的评估方法来进行评估。"
   ]
  },
  {
   "cell_type": "code",
   "execution_count": 8,
   "metadata": {},
   "outputs": [
    {
     "name": "stdout",
     "output_type": "stream",
     "text": [
      "epoch: 1, loss: 0.176529\n",
      "eval_f1: 91.93%\n",
      "epoch: 2, loss: 0.068826\n",
      "eval_f1: 93.50%\n",
      "epoch: 3, loss: 0.055466\n",
      "eval_f1: 93.87%\n",
      "epoch: 4, loss: 0.047732\n",
      "eval_f1: 93.85%\n",
      "epoch: 5, loss: 0.043406\n",
      "eval_f1: 94.16%\n",
      "epoch: 6, loss: 0.040075\n",
      "eval_f1: 93.70%\n",
      "epoch: 7, loss: 0.037694\n",
      "eval_f1: 94.35%\n",
      "epoch: 8, loss: 0.035436\n",
      "eval_f1: 93.63%\n",
      "epoch: 9, loss: 0.033188\n",
      "eval_f1: 94.09%\n",
      "epoch: 10, loss: 0.031708\n",
      "eval_f1: 94.14%\n"
     ]
    }
   ],
   "source": [
    "# 可以直接算p，r，f1\n",
    "from sklearn.metrics import precision_score, recall_score, f1_score\n",
    "\n",
    "epoch = 10\n",
    "for i in range(epoch):\n",
    "    model.train()\n",
    "    total_loss = []\n",
    "    for ids, label_ids in train_dataloader:\n",
    "        if torch.cuda.is_available():\n",
    "            ids = ids.to(torch.device('cuda'))\n",
    "            label_ids = label_ids.to(torch.device('cuda'))\n",
    "        optimizer.zero_grad()\n",
    "        loss = model(ids, label_ids)\n",
    "        total_loss.append(loss.item())\n",
    "        loss.backward()\n",
    "        optimizer.step()\n",
    "    print(\"epoch: %d, loss: %.6f\" % (i + 1, sum(total_loss) / len(total_loss)))\n",
    "    \n",
    "    model.eval()\n",
    "    total_gold = []\n",
    "    total_pred = []\n",
    "    for ids, label_ids in dev_dataloader:\n",
    "        if torch.cuda.is_available():\n",
    "            ids = ids.to(torch.device('cuda'))\n",
    "        # 进行预测（batch_size, seq_length, label_len）\n",
    "        logits = model(ids)\n",
    "        # 转成numpy\n",
    "        logits = logits.detach().cpu().numpy()\n",
    "        # 从预测的概率中找到最大的，输出下标\n",
    "        logits = np.argmax(logits, axis=-1)\n",
    "        # 转成list\n",
    "        logits = logits.tolist()\n",
    "        # 插入到“总预测”的最后\n",
    "        total_pred.extend(logits)\n",
    "        # 将真实标签也插入到“总真实”的最后\n",
    "        label_ids = label_ids.view(-1).numpy().tolist()\n",
    "        total_gold.extend(label_ids)\n",
    "    # eval_p = precision_score(total_gold, total_pred)\n",
    "    # eval_r = recall_score(total_gold, total_pred)\n",
    "    eval_f1 = f1_score(total_gold, total_pred)\n",
    "    print(\"eval_f1: %.2f%%\" % (eval_f1 * 100))"
   ]
  },
  {
   "cell_type": "code",
   "execution_count": null,
   "metadata": {},
   "outputs": [],
   "source": []
  }
 ],
 "metadata": {
  "kernelspec": {
   "display_name": "Python 3",
   "language": "python",
   "name": "python3"
  },
  "language_info": {
   "codemirror_mode": {
    "name": "ipython",
    "version": 3
   },
   "file_extension": ".py",
   "mimetype": "text/x-python",
   "name": "python",
   "nbconvert_exporter": "python",
   "pygments_lexer": "ipython3",
   "version": "3.7.4"
  },
  "pycharm": {
   "stem_cell": {
    "cell_type": "raw",
    "metadata": {
     "collapsed": false
    },
    "source": []
   }
  },
  "toc": {
   "base_numbering": 1,
   "nav_menu": {},
   "number_sections": true,
   "sideBar": true,
   "skip_h1_title": false,
   "title_cell": "Table of Contents",
   "title_sidebar": "Contents",
   "toc_cell": false,
   "toc_position": {},
   "toc_section_display": true,
   "toc_window_display": false
  }
 },
 "nbformat": 4,
 "nbformat_minor": 4
}
