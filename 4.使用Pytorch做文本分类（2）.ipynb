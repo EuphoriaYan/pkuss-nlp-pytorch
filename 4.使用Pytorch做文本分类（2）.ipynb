{
 "cells": [
  {
   "cell_type": "markdown",
   "metadata": {
    "collapsed": true
   },
   "source": [
    "# 使用Pytorch做文本分类"
   ]
  },
  {
   "cell_type": "markdown",
   "metadata": {},
   "source": [
    "上一个notebook我们使用了最简单的全连接方法来做文本分类，大家可以看到5个字的文本分类就已经需要15w+的参数了，因此全连接层在NLP任务的前几层是很少见的，一般会用在最后面几层。我们现在再给大家讲讲CNN方法做文本分类。"
   ]
  },
  {
   "cell_type": "code",
   "execution_count": 1,
   "metadata": {},
   "outputs": [],
   "source": [
    "import torch\n",
    "from matplotlib import pyplot as plt\n",
    "from IPython import display\n",
    "import numpy as np\n",
    "import collections"
   ]
  },
  {
   "cell_type": "code",
   "execution_count": 2,
   "metadata": {},
   "outputs": [
    {
     "name": "stdout",
     "output_type": "stream",
     "text": [
      "dict_length:  9109\n",
      "emb_size:  300\n",
      "， (300,)\n"
     ]
    }
   ],
   "source": [
    "char_list = []\n",
    "emb_list = []\n",
    "\n",
    "# 读取切分好的一行，返回词和词向量（numpy的矩阵）\n",
    "def get_coefs(word, *arr):\n",
    "    return word, np.asarray(arr, dtype='float32')\n",
    "\n",
    "with open('素材\\sgns.wiki.char', 'r', encoding='utf-8') as emb_file:\n",
    "    # 文件的开头是词表长度和词嵌入维度\n",
    "    dict_length, emb_size = emb_file.readline().rstrip().split()\n",
    "    print('dict_length: ', dict_length)\n",
    "    print('emb_size: ', emb_size)\n",
    "    dict_length, emb_size = int(dict_length), int(emb_size)\n",
    "    # 对每一行做处理，结果存到顺序词典中\n",
    "    emb = collections.OrderedDict(get_coefs(*l.rstrip().split()) for l in emb_file.readlines())\n",
    "for k, v in emb.items():\n",
    "    print(k, v.shape)\n",
    "    break"
   ]
  },
  {
   "cell_type": "code",
   "execution_count": 3,
   "metadata": {},
   "outputs": [],
   "source": [
    "class Tokenizer:\n",
    "    # 初始化的时候读取词表\n",
    "    def __init__(self, vocab_list):\n",
    "        self.vocab = self.load_vocab(vocab_list)\n",
    "        for i, (k, v) in enumerate(self.vocab.items()):\n",
    "            if i > 9:\n",
    "                break\n",
    "            print(k, v)\n",
    "    \n",
    "    # 读取词表\n",
    "    def load_vocab(self, vocab_list):\n",
    "        # 我们一般使用顺序字典来存储词表，这样能够保证历遍时index升序排列\n",
    "        vocab = collections.OrderedDict()\n",
    "        # 一般我们使用'UNK'来表示词表中不存在的词，放在0号index上\n",
    "        vocab['UNK'] = 0\n",
    "        index = 1\n",
    "        # 依次插入词\n",
    "        for token in vocab_list:\n",
    "            token = token.strip()\n",
    "            vocab[token] = index\n",
    "            index += 1\n",
    "        return vocab\n",
    "\n",
    "    # 将单个字/词转换为数字id\n",
    "    def token_to_id(self, token):\n",
    "        # 不在词表里的词\n",
    "        if token not in self.vocab.keys():\n",
    "            return self.vocab['UNK']\n",
    "        else:\n",
    "            return self.vocab[token]\n",
    "\n",
    "    # 将多个字/词转换为数字id\n",
    "    def tokens_to_ids(self, tokens):\n",
    "        ids_list = list(map(self.token_to_id, tokens))\n",
    "        return ids_list"
   ]
  },
  {
   "cell_type": "code",
   "execution_count": 4,
   "metadata": {},
   "outputs": [
    {
     "name": "stdout",
     "output_type": "stream",
     "text": [
      "UNK 0\n",
      "， 1\n",
      "的 2\n",
      "。 3\n",
      "、 4\n",
      "和 5\n",
      "在 6\n",
      "年 7\n",
      "“ 8\n",
      "了 9\n"
     ]
    }
   ],
   "source": [
    "tokenizer = Tokenizer(emb.keys())"
   ]
  },
  {
   "cell_type": "code",
   "execution_count": 5,
   "metadata": {},
   "outputs": [
    {
     "name": "stdout",
     "output_type": "stream",
     "text": [
      "(9110, 300)\n"
     ]
    }
   ],
   "source": [
    "# 生成一个全0矩阵，大小为（词典长度+1，嵌入维度）\n",
    "emb_matrix = np.zeros((1 + dict_length, emb_size), dtype='float32')\n",
    "\n",
    "for word, id in tokenizer.vocab.items():\n",
    "    emb_vector = emb.get(word)\n",
    "    if emb_vector is not None:\n",
    "        # 将编号为id的词的词向量放在id行上\n",
    "        emb_matrix[id] = emb_vector\n",
    "print(emb_matrix.shape)"
   ]
  },
  {
   "cell_type": "code",
   "execution_count": 7,
   "metadata": {},
   "outputs": [
    {
     "name": "stdout",
     "output_type": "stream",
     "text": [
      "CNNClassifierNet(\n",
      "  (emb): Embedding(9110, 300)\n",
      "  (relu): ReLU()\n",
      "  (conv1): Conv1d(300, 100, kernel_size=(3,), stride=(1,))\n",
      "  (avg1): AvgPool1d(kernel_size=(28,), stride=(28,), padding=(0,))\n",
      "  (dropout): Dropout(p=0.2, inplace=False)\n",
      "  (linear2): Linear(in_features=100, out_features=20, bias=True)\n",
      "  (linear3): Linear(in_features=20, out_features=2, bias=True)\n",
      "  (softmax): Softmax(dim=-1)\n",
      "  (loss): CrossEntropyLoss()\n",
      ")\n",
      "92162 parameters is trainable.\n"
     ]
    }
   ],
   "source": [
    "from torch import nn\n",
    "\n",
    "class CNNClassifierNet(nn.Module):\n",
    "    def __init__(self, seq_length, label_len):\n",
    "        super(CNNClassifierNet, self).__init__()\n",
    "        self.seq_length = seq_length\n",
    "        self.label_len = label_len\n",
    "        self.kernel_size = 3\n",
    "        # 第一层是一个嵌入层，输入为(batch_size, seq_length),输出为(batch_size, seq_length, emb_size)\n",
    "        # 嵌入层如果使用了from_pretrained，会关掉自动梯度，也就是变得不能训练。如果需要可以手动开启。\n",
    "        self.emb = nn.Embedding.from_pretrained(torch.tensor(emb_matrix))\n",
    "        self.emb_size = self.emb.embedding_dim\n",
    "        # ReLU层无参数，可以共用\n",
    "        self.relu = nn.ReLU()\n",
    "        \n",
    "        # 卷积层，输入为(batch_size, emb_size, seq_length)，输出为(batch_size, out_channels, seq_length-self.kernel_size+1)\n",
    "        self.conv1 = nn.Conv1d(in_channels=300, out_channels=100, kernel_size=3)\n",
    "        # 池化层，一般都是一个卷积一个池化，输入为(batch_size, out_channels, seq_length-self.kernel_size+1)\n",
    "        # 输出为(batch_size, out_channels, 1) -> batch_size, out_channels)\n",
    "        self.avg1 = nn.AvgPool1d(kernel_size=self.seq_length-self.kernel_size+1)\n",
    "        # self.max1 = nn.MaxPool1d(kernel_size=self.seq_length-self.kernel_size+1, return_indices=False)\n",
    "        # dropout层\n",
    "        self.dropout = nn.Dropout(p=0.2)\n",
    "        \n",
    "        # 全连接层，输入为(batch_size, out_channels)，输出为(batch_size, 20)\n",
    "        self.linear2 = nn.Linear(100, 20)\n",
    "        # 全连接层，输入为(batch_size, 20)，输出为(batch_size, label_len)\n",
    "        self.linear3 = nn.Linear(20, self.label_len)\n",
    "        # softmax分类层\n",
    "        self.softmax = nn.Softmax(dim=-1)\n",
    "        # 使用交叉熵损失函数\n",
    "        # 交叉熵损失函数实际上等于nn.Softmax+nn.NLLLoss（负对数似然损失），所以用这个损失的时候不需要先过softmax层\n",
    "        self.loss = nn.CrossEntropyLoss()\n",
    "\n",
    "    # forward 定义前向传播，参数不同，输出结果也不同\n",
    "    def forward(self, x, y=None):\n",
    "        # 嵌入层，输出为(batch_size, seq_length, emb_size)\n",
    "        x = self.emb(x)\n",
    "        # 卷积层需要的输入为(batch_size, emb_size, seq_length)，我们需要将后两维换一下顺序\n",
    "        # (0, 1, 2) \n",
    "        x = x.permute(0, 2, 1)\n",
    "        # 过第一个线性层\n",
    "        x = self.conv1(x)\n",
    "        # 过了avg_pooling后大小为(batch_size, channel_size, 1)\n",
    "        x = self.avg1(x)\n",
    "        # 我们不需要最后那一维，去掉\n",
    "        x = x.squeeze_(dim=-1)\n",
    "        \n",
    "        # batch_size, channel_size\n",
    "        # 非线性激活函数\n",
    "        x = self.relu(x)\n",
    "        # 过第二个线性层\n",
    "        x = self.linear2(x)\n",
    "        # dropout层\n",
    "        x = self.dropout(x)\n",
    "        # 非线性激活函数\n",
    "        x = self.relu(x)\n",
    "        # 过第三个线性层\n",
    "        x = self.linear3(x)\n",
    "        \n",
    "        # 如果没有输入y，那么是在预测，我们返回分类的结果\n",
    "        if y is None:\n",
    "            return self.softmax(x)\n",
    "        # 如果有输入y，那么是在训练，我们返回损失函数的值\n",
    "        else:\n",
    "            return self.loss(x, y)\n",
    "        \n",
    "# 我们做的是酒店评价的情感分析，最长为30\n",
    "seq_length = 30\n",
    "# 情感只有正负两类\n",
    "label_len = 2\n",
    "\n",
    "model = CNNClassifierNet(seq_length, label_len)\n",
    "# 使用print可以打印出网络的结构\n",
    "print(model)\n",
    "\n",
    "total_trainable_params = sum(p.numel() for p in model.parameters() if p.requires_grad)\n",
    "print(str(total_trainable_params), 'parameters is trainable.')\n",
    "\n",
    "if torch.cuda.is_available():\n",
    "    model.to(torch.device('cuda'))"
   ]
  },
  {
   "cell_type": "code",
   "execution_count": 8,
   "metadata": {},
   "outputs": [],
   "source": [
    "# 原始数据和标签 \n",
    "class data_example:\n",
    "    def __init__(self, text, label):\n",
    "        self.text = text\n",
    "        self.label = label\n",
    "\n",
    "# 处理完毕的数据和标签\n",
    "class data_feature:\n",
    "    def __init__(self, ids, label):\n",
    "        self.ids = ids\n",
    "        self.label = label"
   ]
  },
  {
   "cell_type": "code",
   "execution_count": 10,
   "metadata": {},
   "outputs": [
    {
     "name": "stdout",
     "output_type": "stream",
     "text": [
      "num of example: 3920\n",
      "距离川沙公路较近,但是公交指示不对,如果是\"蔡陆线\"的话,会非常麻烦.建议用别的路线.房间较为简单. positive\n",
      "商务大床房，房间很大，床有2M宽，整体感觉经济实惠不错! positive\n",
      "位置离我们单位很近,从价格来说,性价比很高.我要的大床房,168元,前台服务员态度很好,房间硬件一般,但是想想价格也就这样了.还算干净,就是床垫子太硬. positive\n"
     ]
    }
   ],
   "source": [
    "# 读原始数据\n",
    "examples = []\n",
    "with open('素材/sentiment/正面评价.txt', 'r', encoding='utf-8') as pos_file:\n",
    "    for line in pos_file:\n",
    "        line = line.strip()\n",
    "        examples.append(data_example(line, 'positive'))\n",
    "with open('素材/sentiment/负面评价.txt', 'r', encoding='utf-8') as pos_file:\n",
    "    for line in pos_file:\n",
    "        line = line.strip()\n",
    "        examples.append(data_example(line, 'negative'))\n",
    "\n",
    "print('num of example: %d' % len(examples))\n",
    "for i in range(3):\n",
    "    print(examples[i].text, examples[i].label)"
   ]
  },
  {
   "cell_type": "code",
   "execution_count": 11,
   "metadata": {},
   "outputs": [
    {
     "name": "stdout",
     "output_type": "stream",
     "text": [
      "[550, 658, 388, 551, 319, 149, 246, 320, 38, 50, 13, 319, 913, 220, 2277, 57, 44, 38, 105, 1014, 13, 54, 1720, 931, 107, 54, 2, 412, 38, 52] 1\n",
      "[849, 1217, 71, 1785, 1071, 1, 1071, 167, 231, 71, 1, 1785, 23, 68, 314, 458, 1, 1152, 318, 1064, 1199, 187, 780, 774, 1614, 57, 1577, 953, 0, 0] 1\n",
      "[80, 409, 658, 201, 258, 567, 80, 231, 320, 38, 59, 1433, 559, 86, 151, 38, 221, 1433, 155, 231, 181, 76, 201, 128, 2, 71, 1785, 1071, 38, 66] 1\n"
     ]
    }
   ],
   "source": [
    "# 处理原始数据\n",
    "def convert_example_to_feature(examples):\n",
    "    features = []\n",
    "    for i in examples:\n",
    "        # 使用tokenizer将字符串转换为数字id\n",
    "        ids = tokenizer.tokens_to_ids(i.text)\n",
    "        # 我们规定了最大长度，超过了就切断，不足就补齐（一般补unk，也就是这里的[0]，也有特殊补位符[PAD]之类的）\n",
    "        if len(ids) > seq_length:\n",
    "            ids = ids[0: seq_length]\n",
    "        else:\n",
    "            ids = ids + [0] * (seq_length - len(ids))\n",
    "        # 如果这个字符串全都不能识别，那就放弃掉\n",
    "        if sum(ids) == 0:\n",
    "            continue\n",
    "        assert len(ids) == seq_length\n",
    "        # 处理标签，正面为1，负面为0\n",
    "        if i.label == 'positive':\n",
    "            label = 1\n",
    "        else:\n",
    "            label = 0\n",
    "        features.append(data_feature(ids, label))\n",
    "    return features\n",
    "\n",
    "features = convert_example_to_feature(examples)\n",
    "\n",
    "for i in range(3):\n",
    "    print(features[i].ids, features[i].label)"
   ]
  },
  {
   "cell_type": "code",
   "execution_count": 12,
   "metadata": {},
   "outputs": [],
   "source": [
    "from torch.utils.data import TensorDataset, DataLoader\n",
    "\n",
    "ids = torch.tensor([f.ids for f in features], dtype=torch.long)\n",
    "label = torch.tensor([f.label for f in features], dtype=torch.long)\n",
    "\n",
    "dataset = TensorDataset(ids, label)\n",
    "dataloader = DataLoader(dataset, batch_size=16, shuffle=True)"
   ]
  },
  {
   "cell_type": "code",
   "execution_count": 13,
   "metadata": {},
   "outputs": [
    {
     "name": "stdout",
     "output_type": "stream",
     "text": [
      "Adam (\n",
      "Parameter Group 0\n",
      "    amsgrad: False\n",
      "    betas: (0.9, 0.999)\n",
      "    eps: 1e-08\n",
      "    lr: 0.001\n",
      "    weight_decay: 0\n",
      ")\n"
     ]
    }
   ],
   "source": [
    "from torch.optim import Adam\n",
    "\n",
    "optimizer = Adam(model.parameters(), lr=0.001)\n",
    "print(optimizer)"
   ]
  },
  {
   "cell_type": "code",
   "execution_count": 14,
   "metadata": {},
   "outputs": [
    {
     "name": "stdout",
     "output_type": "stream",
     "text": [
      "epoch: 1, loss: 0.672779\n",
      "epoch: 2, loss: 0.592413\n",
      "epoch: 3, loss: 0.559138\n",
      "epoch: 4, loss: 0.543333\n",
      "epoch: 5, loss: 0.533890\n",
      "epoch: 6, loss: 0.518462\n",
      "epoch: 7, loss: 0.510866\n",
      "epoch: 8, loss: 0.511546\n",
      "epoch: 9, loss: 0.500470\n"
     ]
    }
   ],
   "source": [
    "epoch = 9\n",
    "for i in range(epoch):\n",
    "    total_loss = []\n",
    "    for ids, label in dataloader:\n",
    "        if torch.cuda.is_available():\n",
    "            ids = ids.to(torch.device('cuda'))\n",
    "            label = label.to(torch.device('cuda'))\n",
    "        # 因为我们这次loss已经写在模型里面了，所以就不用再计算模型了\n",
    "        optimizer.zero_grad()\n",
    "        loss = model(ids, label)\n",
    "        total_loss.append(loss.item())\n",
    "        loss.backward()\n",
    "        optimizer.step()\n",
    "    print(\"epoch: %d, loss: %.6f\" % (i + 1, sum(total_loss) / len(total_loss)))"
   ]
  },
  {
   "cell_type": "code",
   "execution_count": 15,
   "metadata": {},
   "outputs": [
    {
     "name": "stdout",
     "output_type": "stream",
     "text": [
      "房间不错但是太贵了！\n",
      "negative\n",
      "可以看到海\n",
      "positive\n",
      "性价比高\n",
      "positive\n",
      "quit\n"
     ]
    }
   ],
   "source": [
    "# 将输出的概率还原成标签\n",
    "def tensor_to_label(logits):\n",
    "    logits = logits.detach().cpu().numpy()\n",
    "    logits = np.argmax(logits, axis=-1)\n",
    "    if logits[0] == 1:\n",
    "        return 'positive'\n",
    "    else:\n",
    "        return 'negative'\n",
    "\n",
    "# 还记得网络中我们加了dropout吗？\n",
    "# 当我们将model设置为eval状态时，dropout/BatchNorm不生效\n",
    "model.eval()\n",
    "\n",
    "while True:\n",
    "    s = input()\n",
    "    if s == 'quit':\n",
    "        break\n",
    "    s = [data_example(s, 0)]\n",
    "    s = convert_example_to_feature(s)\n",
    "    ids = torch.tensor([f.ids for f in s], dtype=torch.long)\n",
    "    with torch.no_grad():\n",
    "        if torch.cuda.is_available():\n",
    "            ids = ids.to(torch.device('cuda'))\n",
    "        logits = tensor_to_label(model(ids))\n",
    "        print(logits)"
   ]
  },
  {
   "cell_type": "code",
   "execution_count": null,
   "outputs": [],
   "source": [],
   "metadata": {
    "collapsed": false,
    "pycharm": {
     "name": "#%%\n"
    }
   }
  },
  {
   "cell_type": "code",
   "execution_count": null,
   "metadata": {},
   "outputs": [],
   "source": []
  }
 ],
 "metadata": {
  "kernelspec": {
   "display_name": "Python 3",
   "language": "python",
   "name": "python3"
  },
  "language_info": {
   "codemirror_mode": {
    "name": "ipython",
    "version": 3
   },
   "file_extension": ".py",
   "mimetype": "text/x-python",
   "name": "python",
   "nbconvert_exporter": "python",
   "pygments_lexer": "ipython3",
   "version": "3.7.4"
  },
  "pycharm": {
   "stem_cell": {
    "cell_type": "raw",
    "source": [],
    "metadata": {
     "collapsed": false
    }
   }
  },
  "toc": {
   "base_numbering": 1,
   "nav_menu": {},
   "number_sections": true,
   "sideBar": true,
   "skip_h1_title": false,
   "title_cell": "Table of Contents",
   "title_sidebar": "Contents",
   "toc_cell": false,
   "toc_position": {},
   "toc_section_display": true,
   "toc_window_display": false
  }
 },
 "nbformat": 4,
 "nbformat_minor": 1
}