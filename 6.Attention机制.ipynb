{
 "cells": [
  {
   "cell_type": "markdown",
   "metadata": {},
   "source": [
    "# 使用Pytorch做文本分类"
   ]
  },
  {
   "cell_type": "markdown",
   "metadata": {},
   "source": [
    "有没有发现其实我们前面做LSTM进行文本分类时，最大的一部分信息，也就是每个时刻的输出被我们舍弃掉了？"
   ]
  },
  {
   "cell_type": "markdown",
   "metadata": {},
   "source": [
    "所以我们来尝试使用Attention机制，让这些信息也能够被使用上。"
   ]
  },
  {
   "cell_type": "code",
   "execution_count": 1,
   "metadata": {},
   "outputs": [],
   "source": [
    "from utils.tokenizer import Tokenizer\n",
    "from utils.get_emb import *\n",
    "import torch\n",
    "import numpy as np"
   ]
  },
  {
   "cell_type": "code",
   "execution_count": 2,
   "metadata": {},
   "outputs": [
    {
     "name": "stdout",
     "output_type": "stream",
     "text": [
      "dict_length:  9109\n",
      "emb_size:  300\n",
      "UNK 0\n",
      "， 1\n",
      "的 2\n",
      "。 3\n",
      "、 4\n",
      "和 5\n",
      "在 6\n",
      "年 7\n",
      "“ 8\n",
      "了 9\n"
     ]
    }
   ],
   "source": [
    "emb, dict_length, emb_size = get_emb()\n",
    "tokenizer = Tokenizer(emb.keys())\n",
    "emb_matrix = get_emb_matrix(emb, tokenizer, dict_length, emb_size)"
   ]
  },
  {
   "cell_type": "markdown",
   "metadata": {},
   "source": [
    "然后我们来建立一个LSTM网络，这个网络比较复杂，用到了attention机制。这种机制能够有效地识别出在序列上哪些位置更“重要”。\n",
    "![avatar](素材/Bi-LSTM+Attention.jpeg)"
   ]
  },
  {
   "cell_type": "code",
   "execution_count": 10,
   "metadata": {},
   "outputs": [],
   "source": [
    "from torch import nn\n",
    "\n",
    "class LSTMAttentionClassifierNet(nn.Module):\n",
    "    def __init__(self, seq_length, label_len, emb_matrix, hidden_dims=None, bidirectional=False, num_layers=1):\n",
    "        super(LSTMAttentionClassifierNet, self).__init__()\n",
    "        self.seq_length = seq_length\n",
    "        self.label_len = label_len\n",
    "        # 控制是否使用双向LSTM\n",
    "        self.bidirectional = bidirectional\n",
    "        if num_layers == 1:\n",
    "            self.lstm_dropout = 0.0\n",
    "        else:\n",
    "            self.lstm_dropout = 0.2\n",
    "        self.fc_dropout = 0.1\n",
    "\n",
    "        self.emb = nn.Embedding.from_pretrained(torch.tensor(emb_matrix))\n",
    "        self.emb_size = self.emb.embedding_dim\n",
    "        if hidden_dims is not None:\n",
    "            self.hidden_dims = hidden_dims\n",
    "        else:\n",
    "            self.hidden_dims = self.emb_size\n",
    "\n",
    "        # 循环神经网络，输入为(seq_len, batch, input_size)，(h_0, c_0), 如果没有给出h_0和c_0则默认为全零\n",
    "        # 输出为(seq_len, batch, num_directions * hidden_size), (h_final, c_final)\n",
    "        # 关于hidden_state和cell_state，可以理解为“短期记忆”和“长期记忆”\n",
    "        self.lstm = nn.LSTM(self.emb_size, self.hidden_dims,\n",
    "                            num_layers=1, dropout=self.lstm_dropout,\n",
    "                            bidirectional=self.bidirectional)\n",
    "\n",
    "        # attention层\n",
    "        self.attention = nn.Sequential(\n",
    "            nn.Linear(self.hidden_dims, 1),\n",
    "            nn.ReLU(inplace=True)\n",
    "        )\n",
    "\n",
    "        # 输出层，输入为(batch_size, hidden_dims)，输出为(batch_size, label_len)\n",
    "        self.FC_out = nn.Sequential(\n",
    "            nn.Linear(self.hidden_dims, self.hidden_dims),\n",
    "            nn.ReLU(inplace=True),\n",
    "            nn.Dropout(self.fc_dropout),\n",
    "            nn.Linear(self.hidden_dims, self.label_len)\n",
    "        )\n",
    "\n",
    "        # softmax分类层\n",
    "        self.softmax = nn.Softmax(dim=-1)\n",
    "        # 交叉熵损失函数\n",
    "        self.loss_fct = nn.CrossEntropyLoss()\n",
    "\n",
    "    def forward(self, x, y=None):\n",
    "        # 通过词嵌入得到词的分布式表示，输出是(batch_size, seq_len, input_size)\n",
    "        x = self.emb(x)\n",
    "        # 但是LSTM要的输入是(seq_len, batch_size, input_size)，做一下维度变换\n",
    "        # 你也可以在建立LSTM网络的时候设置\"batch_first = True\"，使得LSTM要的输入就是(batch_size, seq_len, input_size)\n",
    "        x = x.permute(1, 0, 2)\n",
    "        # 使用LSTM，输出为(seq_len, batch_size, num_directions * hidden_size)\n",
    "        # LSTM输出的其实是最后一层的每个时刻的“短时记忆”\n",
    "        x, (final_h, final_c) = self.lstm(x)\n",
    "        # 重新把维度换成(batch, seq_len, num_directions * hidden_size)\n",
    "        x = x.permute(1, 0, 2)\n",
    "\n",
    "        # 双向的话，我们把两个方向的取和，现在x的形状是(batch, seq_len, hidden_size)\n",
    "        if self.bidirectional:\n",
    "            x = torch.chunk(x, 2, -1)\n",
    "            x = x[0] + x[1]\n",
    "\n",
    "        # 接下来我们计算attention\n",
    "\n",
    "        # (batch, seq_len, hidden_size)\n",
    "        x = nn.Tanh()(x)\n",
    "\n",
    "        # atten_context (batch_size, seq_len, 1)\n",
    "        atten_context = self.attention(x)\n",
    "        atten_context = atten_context.permute(0, 2, 1)\n",
    "        # softmax_w (batch_size, 1, seq_len)\n",
    "        softmax_w = self.softmax(atten_context)\n",
    "\n",
    "        # atten_x (batch_size, 1, hidden_dims)\n",
    "        atten_x = torch.bmm(softmax_w, x)\n",
    "        # (batch_size, hidden_dims)\n",
    "        atten_x = atten_x.squeeze(dim=1)\n",
    "        logits = self.FC_out(atten_x)\n",
    "        if y is None:\n",
    "            return logits\n",
    "        else:\n",
    "            return self.loss_fct(logits, y)"
   ]
  },
  {
   "cell_type": "code",
   "execution_count": 11,
   "metadata": {},
   "outputs": [
    {
     "name": "stdout",
     "output_type": "stream",
     "text": [
      "LSTMClassifierNet(\n",
      "  (emb): Embedding(9110, 300)\n",
      "  (lstm): LSTM(300, 300)\n",
      "  (attention): Sequential(\n",
      "    (0): Linear(in_features=300, out_features=300, bias=True)\n",
      "    (1): ReLU(inplace=True)\n",
      "  )\n",
      "  (FC_out): Sequential(\n",
      "    (0): Linear(in_features=300, out_features=300, bias=True)\n",
      "    (1): ReLU(inplace=True)\n",
      "    (2): Dropout(p=0.1, inplace=False)\n",
      "    (3): Linear(in_features=300, out_features=2, bias=True)\n",
      "  )\n",
      "  (softmax): Softmax(dim=-1)\n",
      "  (loss_fct): CrossEntropyLoss()\n",
      ")\n",
      "903602 parameters is trainable.\n"
     ]
    }
   ],
   "source": [
    "# 我们做的是酒店评价的情感分析，最长为30\n",
    "seq_length = 30\n",
    "# 情感只有正负两类\n",
    "label_len = 2\n",
    "model = LSTMClassifierNet(seq_length, label_len)\n",
    "# 使用print可以打印出网络的结构\n",
    "print(model)\n",
    "\n",
    "total_trainable_params = sum(p.numel() for p in model.parameters() if p.requires_grad)\n",
    "print(str(total_trainable_params), 'parameters is trainable.')\n",
    "\n",
    "if torch.cuda.is_available():\n",
    "    model.to(torch.device('cuda'))"
   ]
  },
  {
   "cell_type": "code",
   "execution_count": 12,
   "metadata": {},
   "outputs": [],
   "source": [
    "from dataset_readers.single_sent_clf import *\n",
    "\n",
    "reader = ChnSentiCorp_Clf()\n",
    "train_examples = reader.get_train_examples()\n",
    "dev_examples = reader.get_dev_examples()"
   ]
  },
  {
   "cell_type": "code",
   "execution_count": 13,
   "metadata": {},
   "outputs": [],
   "source": [
    "from torch.utils.data import TensorDataset, DataLoader\n",
    "\n",
    "def generate_dataloader(examples, tokenizer, seq_length):\n",
    "    features = convert_example_to_feature(examples, tokenizer, seq_length)\n",
    "    ids = torch.tensor([f.ids for f in features], dtype=torch.long)\n",
    "    label = torch.tensor([f.label_ids for f in features], dtype=torch.long)\n",
    "\n",
    "    dataset = TensorDataset(ids, label)\n",
    "    dataloader = DataLoader(dataset, batch_size=16, shuffle=True)\n",
    "    return dataloader"
   ]
  },
  {
   "cell_type": "code",
   "execution_count": 14,
   "metadata": {},
   "outputs": [],
   "source": [
    "train_dataloader = generate_dataloader(train_examples, tokenizer, seq_length)\n",
    "dev_dataloader = generate_dataloader(dev_examples, tokenizer, seq_length)"
   ]
  },
  {
   "cell_type": "code",
   "execution_count": 15,
   "metadata": {},
   "outputs": [
    {
     "name": "stdout",
     "output_type": "stream",
     "text": [
      "Adam (\n",
      "Parameter Group 0\n",
      "    amsgrad: False\n",
      "    betas: (0.9, 0.999)\n",
      "    eps: 1e-08\n",
      "    lr: 0.001\n",
      "    weight_decay: 0\n",
      ")\n"
     ]
    }
   ],
   "source": [
    "from torch.optim import Adam\n",
    "\n",
    "optimizer = Adam(model.parameters(), lr=0.001)\n",
    "print(optimizer)"
   ]
  },
  {
   "cell_type": "code",
   "execution_count": 16,
   "metadata": {},
   "outputs": [
    {
     "name": "stdout",
     "output_type": "stream",
     "text": [
      "epoch: 1, loss: 0.645538\n",
      "eval_f1: 59.87%\n",
      "epoch: 2, loss: 0.545199\n",
      "eval_f1: 64.76%\n",
      "epoch: 3, loss: 0.497852\n",
      "eval_f1: 69.59%\n",
      "epoch: 4, loss: 0.430785\n",
      "eval_f1: 76.56%\n",
      "epoch: 5, loss: 0.386537\n",
      "eval_f1: 79.37%\n",
      "epoch: 6, loss: 0.334536\n",
      "eval_f1: 80.21%\n",
      "epoch: 7, loss: 0.282924\n",
      "eval_f1: 78.92%\n",
      "epoch: 8, loss: 0.241811\n",
      "eval_f1: 82.47%\n",
      "epoch: 9, loss: 0.197273\n",
      "eval_f1: 81.44%\n",
      "epoch: 10, loss: 0.151812\n",
      "eval_f1: 80.74%\n"
     ]
    }
   ],
   "source": [
    "from sklearn.metrics import precision_score, recall_score, f1_score\n",
    "\n",
    "epoch = 10\n",
    "for i in range(epoch):\n",
    "    model.train()\n",
    "    total_loss = []\n",
    "    for ids, label_ids in train_dataloader:\n",
    "        if torch.cuda.is_available():\n",
    "            ids = ids.to(torch.device('cuda'))\n",
    "            label_ids = label_ids.to(torch.device('cuda'))\n",
    "        optimizer.zero_grad()\n",
    "        loss = model(ids, label_ids)\n",
    "        total_loss.append(loss.item())\n",
    "        loss.backward()\n",
    "        optimizer.step()\n",
    "    print(\"epoch: %d, loss: %.6f\" % (i + 1, sum(total_loss) / len(total_loss)))\n",
    "    \n",
    "    model.eval()\n",
    "    total_gold = []\n",
    "    total_pred = []\n",
    "    for ids, label_ids in dev_dataloader:\n",
    "        if torch.cuda.is_available():\n",
    "            ids = ids.to(torch.device('cuda'))\n",
    "        logits = model(ids)\n",
    "        logits = logits.detach().cpu().numpy()\n",
    "        logits = np.argmax(logits, axis=-1)\n",
    "        logits = logits.tolist()\n",
    "        total_pred.extend(logits)\n",
    "        label_ids = label_ids.numpy().tolist()\n",
    "        total_gold.extend(label_ids)\n",
    "    # eval_p = precision_score(total_gold, total_pred)\n",
    "    # eval_r = recall_score(total_gold, total_pred)\n",
    "    eval_f1 = f1_score(total_gold, total_pred)\n",
    "    print(\"eval_f1: %.2f%%\" % (eval_f1 * 100))"
   ]
  },
  {
   "cell_type": "code",
   "execution_count": null,
   "metadata": {},
   "outputs": [],
   "source": []
  }
 ],
 "metadata": {
  "kernelspec": {
   "display_name": "Python 3",
   "language": "python",
   "name": "python3"
  },
  "language_info": {
   "codemirror_mode": {
    "name": "ipython",
    "version": 3
   },
   "file_extension": ".py",
   "mimetype": "text/x-python",
   "name": "python",
   "nbconvert_exporter": "python",
   "pygments_lexer": "ipython3",
   "version": "3.7.4"
  },
  "toc": {
   "base_numbering": 1,
   "nav_menu": {},
   "number_sections": true,
   "sideBar": true,
   "skip_h1_title": false,
   "title_cell": "Table of Contents",
   "title_sidebar": "Contents",
   "toc_cell": false,
   "toc_position": {},
   "toc_section_display": true,
   "toc_window_display": false
  },
  "pycharm": {
   "stem_cell": {
    "cell_type": "raw",
    "source": [],
    "metadata": {
     "collapsed": false
    }
   }
  }
 },
 "nbformat": 4,
 "nbformat_minor": 4
}